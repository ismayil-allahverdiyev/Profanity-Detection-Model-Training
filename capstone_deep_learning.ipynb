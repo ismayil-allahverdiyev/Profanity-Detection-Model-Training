{
 "cells": [
  {
   "cell_type": "markdown",
   "id": "1a1bfb97-afd9-4cd8-8b1b-882c55b80374",
   "metadata": {},
   "source": [
    "# Capstone project - Deep learning"
   ]
  },
  {
   "cell_type": "markdown",
   "id": "ba3f1253-9ef7-48cb-b1f0-7e6beada0c00",
   "metadata": {},
   "source": [
    "## Imports"
   ]
  },
  {
   "cell_type": "code",
   "execution_count": null,
   "id": "fd8b136e-bd51-49e3-8abf-acc137fa82be",
   "metadata": {},
   "outputs": [],
   "source": [
    "import pandas as pd\n",
    "import keras\n",
    "from sklearn.preprocessing import LabelEncoder\n",
    "from sklearn.model_selection import train_test_split\n",
    "from keras.models import Sequential\n",
    "from keras.layers import Embedding, Conv1D, GlobalMaxPooling1D, Dense, LeakyReLU, Dropout\n",
    "from keras.callbacks import EarlyStopping\n",
    "from keras.preprocessing.text import Tokenizer\n",
    "from keras.preprocessing.sequence import pad_sequences\n",
    "from tensorflow.compat.v1.losses import sparse_softmax_cross_entropy"
   ]
  },
  {
   "cell_type": "markdown",
   "id": "b785a61e-fe1b-4c3a-bcd7-f820b143c8d6",
   "metadata": {},
   "source": [
    "## Dataset"
   ]
  },
  {
   "cell_type": "code",
   "execution_count": null,
   "id": "de5d1e36-4824-4744-b11f-19334e657b2e",
   "metadata": {},
   "outputs": [],
   "source": [
    "df = pd.read_excel(\"spell_checked_data.xlsx\")"
   ]
  },
  {
   "cell_type": "markdown",
   "id": "be00e49b-a8eb-49d0-b3be-401d1006fce9",
   "metadata": {},
   "source": [
    "## Label encoding, Tokenization and Padding"
   ]
  },
  {
   "cell_type": "code",
   "execution_count": null,
   "id": "f086c683-1d27-4462-a52c-db515a783a82",
   "metadata": {},
   "outputs": [],
   "source": [
    "label_encoder = LabelEncoder()\n",
    "df['class_encoded'] = label_encoder.fit_transform(df['class'])\n",
    "\n",
    "tokenizer = Tokenizer()\n",
    "tokenizer.fit_on_texts(df['lemmatized_tweet'])\n",
    "X = tokenizer.texts_to_sequences(df['lemmatized_tweet'])\n",
    "X = pad_sequences(X, maxlen=15)\n",
    "y = df['class_encoded'].values"
   ]
  },
  {
   "cell_type": "markdown",
   "id": "2e244a09-f287-42fa-a7a6-31e6b0f04cd0",
   "metadata": {},
   "source": [
    "## Splitting the data"
   ]
  },
  {
   "cell_type": "code",
   "execution_count": null,
   "id": "4cc69349-f8ef-43a4-8d89-0fb2707f80e3",
   "metadata": {},
   "outputs": [],
   "source": [
    "X_train, X_test, y_train, y_test = train_test_split(X, y, test_size=0.2, random_state=42)"
   ]
  },
  {
   "cell_type": "markdown",
   "id": "87cc912a-8dab-4322-a966-53385bafc8d3",
   "metadata": {},
   "source": [
    "## CNN model"
   ]
  },
  {
   "cell_type": "code",
   "execution_count": null,
   "id": "9a3d9357-6ec5-4b8a-8c6c-786788db98fe",
   "metadata": {},
   "outputs": [],
   "source": [
    "model_cnn = Sequential()\n",
    "model_cnn.add(Embedding(input_dim=len(tokenizer.word_index) + 1, output_dim=300, input_length=15))\n",
    "model_cnn.add(Conv1D(filters=128, kernel_size=3, activation='relu'))\n",
    "model_cnn.add(GlobalMaxPooling1D())\n",
    "model_cnn.add(LeakyReLU(alpha=0.01))\n",
    "model_cnn.add(Dropout(0.5))\n",
    "model_cnn.add(Dense(units=1, activation='sigmoid'))\n",
    "\n",
    "opt = keras.optimizers.Adam(learning_rate=0.0001)\n",
    "model_cnn.compile(loss='binary_crossentropy', metrics=['accuracy'], optimizer=opt)"
   ]
  },
  {
   "cell_type": "markdown",
   "id": "4ec0319d-c106-443b-9ed1-d2fbf7af1c7d",
   "metadata": {},
   "source": [
    "## Fitting the model and early stopping"
   ]
  },
  {
   "cell_type": "code",
   "execution_count": null,
   "id": "c610cc19-c9ca-47c5-b8a4-9150365939a3",
   "metadata": {},
   "outputs": [],
   "source": [
    "early_stopping = EarlyStopping(monitor='val_loss', patience=5, restore_best_weights=True)\n",
    "\n",
    "model_cnn.fit(X_train, y_train, epochs=20, batch_size=32, validation_split=0.2, callbacks=[early_stopping])"
   ]
  },
  {
   "cell_type": "markdown",
   "id": "2997d4f0-408a-48fb-a9f0-9d3cfc854562",
   "metadata": {},
   "source": [
    "## Evaluations"
   ]
  },
  {
   "cell_type": "code",
   "execution_count": null,
   "id": "1d903e1d-1caf-4786-aeec-0e4bc004f7c0",
   "metadata": {},
   "outputs": [],
   "source": [
    "loss, accuracy = model_cnn.evaluate(X_test, y_test)\n",
    "print(\"Test Accuracy: \" + str(accuracy))\n",
    "print(\"Test Loss: \" + str(loss))"
   ]
  }
 ],
 "metadata": {
  "kernelspec": {
   "display_name": "anaconda-panel-2023.05-py310",
   "language": "python",
   "name": "conda-env-anaconda-panel-2023.05-py310-py"
  },
  "language_info": {
   "codemirror_mode": {
    "name": "ipython",
    "version": 3
   },
   "file_extension": ".py",
   "mimetype": "text/x-python",
   "name": "python",
   "nbconvert_exporter": "python",
   "pygments_lexer": "ipython3",
   "version": "3.11.5"
  }
 },
 "nbformat": 4,
 "nbformat_minor": 5
}
